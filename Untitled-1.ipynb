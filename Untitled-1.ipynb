{
 "cells": [
  {
   "cell_type": "code",
   "execution_count": 4,
   "metadata": {},
   "outputs": [
    {
     "name": "stdout",
     "output_type": "stream",
     "text": [
      "making requests: yD1rD9\n",
      "<Response [200]> https://www.artstation.com/projects/yD1rD9.json\n"
     ]
    },
    {
     "data": {
      "text/plain": [
       "{'Image Links': ['https://cdna.artstation.com/p/assets/covers/images/078/253/180/large/vincentg-vincentg-vfx-slash-cover.jpg?1721634310',\n",
       "  'https://cdnb.artstation.com/p/assets/images/images/078/250/625/large/vincentg-screenshot-2024-07-22-132059.jpg?1721626070',\n",
       "  'https://cdna.artstation.com/p/assets/images/images/078/100/240/large/vincentg-screenshot-2024-07-17-133812.jpg?1721194722',\n",
       "  'https://cdnb.artstation.com/p/assets/images/images/078/228/579/large/vincentg-screenshot-2024-07-21-192703.jpg?1721561251',\n",
       "  'https://cdna.artstation.com/p/assets/images/images/078/100/148/large/vincentg-screenshot-2024-07-17-133243.jpg?1721194394',\n",
       "  'https://cdna.artstation.com/p/assets/images/images/078/061/538/large/vincentg-screenshot-2024-07-16-100137.jpg?1721095568',\n",
       "  'https://cdna.artstation.com/p/assets/images/images/078/061/550/large/vincentg-screenshot-2024-07-16-100634.jpg?1721095641'],\n",
       " 'Video Links': [['https://www.artstation.com/api/v2/animation/video_clips/c5351999-691e-4d4e-a913-644f6047bf63/embed.html?s=8876c10787618c6c77cab8c27d7e7ee3900e7f608c7cf836475b5b5841bd23a3&t=1722704964'],\n",
       "  ['https://www.artstation.com/api/v2/animation/video_clips/7a254b8e-0b9e-41b7-acf3-8066481d3cf8/embed.html?s=e811030ba11a6857ac65fa51045870c9490bed860e609eebcfe3a3d1d0b2ca67&t=1722704964'],\n",
       "  ['https://www.artstation.com/api/v2/animation/video_clips/14b45d67-9ed7-49ee-a107-112352b4bb9d/embed.html?s=dd4bd3e484a134a7877ef0d23814a81d3d8b670fe538ab8659a04412c865ea5d&t=1722704964'],\n",
       "  ['https://www.artstation.com/api/v2/animation/video_clips/09a3ad57-804a-4ce9-a635-fa86cbeed591/embed.html?s=6bcc24c61b790f97d7744716d06b4041dcd10953b927e455828661e56acea02f&t=1722704964'],\n",
       "  ['https://www.artstation.com/api/v2/animation/video_clips/bec70744-c2ad-47a0-9708-56bf89b6269e/embed.html?s=dd09119cb9a531fd71430a815e5b733589d6c09cf3d4f854253fe80665a801d1&t=1722704964'],\n",
       "  ['https://www.artstation.com/api/v2/animation/video_clips/56a2b320-ccfb-4003-acaa-511daaca02c0/embed.html?s=d5b92066d64942c86090be32fd365a88841af3f7ddf86dfec96fae8a864c8906&t=1722704964'],\n",
       "  ['https://www.artstation.com/api/v2/animation/video_clips/e19f34f3-a60c-4e61-a069-fbf2af22f81d/embed.html?s=44c8c37ee2a4ae8031d3f6456cab3eaa0006c2315915faac52d8058e6dfd7be8&t=1722704964']]}"
      ]
     },
     "execution_count": 4,
     "metadata": {},
     "output_type": "execute_result"
    }
   ],
   "source": [
    "import requests as r\n",
    "from pprint import pp\n",
    "def download_art(art_hash):\n",
    "    headers = {\n",
    "        \"User-Agent\": \"Mozilla/5.0 (Windows NT 10.0; Win64; x64; rv:109.0) Gecko/20100101 Firefox/113.0\",\n",
    "        \"Accept\": \"text/html,application/xhtml+xml,application/xml;q=0.9,image/avif,image/webp,*/*;q=0.8\",\n",
    "        \"Accept-Language\": \"en-US,en;q=0.5\",\n",
    "    }\n",
    "    print('making requests:', art_hash)\n",
    "    art_url = f\"https://www.artstation.com/projects/{art_hash}.json\"\n",
    "    x2 = r.get(art_url, headers=headers)\n",
    "    print(x2, art_url)\n",
    "    if x2.status_code != 200:\n",
    "        print('Failed to make request.')\n",
    "        return ['', '', '', '']\n",
    "    \n",
    "    x2 = x2.json()\n",
    "\n",
    "    cover_art = x2['cover_url']\n",
    "    image_url = x2['assets'][0].get('image_url')\n",
    "\n",
    "    import re \n",
    "    links = {'Image Links': [], \n",
    "             'Video Links': []}   \n",
    "    for i in x2['assets']:\n",
    "        \n",
    "        if i['has_embedded_player']:\n",
    "\n",
    "            vid_link = re.findall(r\"src='([^']*)'\", i['player_embedded'])\n",
    "            if vid_link:\n",
    "                links['Video Links'].append(vid_link)\n",
    "\n",
    "        else: \n",
    "            links['Image Links'].append(i['image_url'])\n",
    "    # if cover_art == image_url:\n",
    "    #     return [cover_art]\n",
    "\n",
    "    # rdata = [cover_art, image_url, image_url.replace('large', '4k'), x2['title']]\n",
    "    # cache_urls[art_hash] = rdata\n",
    "    return links\n",
    "\n",
    "ff = download_art('yD1rD9')\n",
    "ff"
   ]
  },
  {
   "cell_type": "code",
   "execution_count": 21,
   "metadata": {},
   "outputs": [
    {
     "data": {
      "text/plain": [
       "\"<iframe src='https://www.artstation.com/api/v2/animation/video_clips/7a254b8e-0b9e-41b7-acf3-8066481d3cf8/embed.html?s=d57cbd2e1cb89e6c1e0f7ff1464e05197ce1cc40b89bd8d337806fa3001b63f7&t=1721665535' width='1920' height='1048' frameborder='0' allowfullscreen allows='autoplay; fullscreen' style='max-width: 1920px; max-height: 1048px;'></iframe>\""
      ]
     },
     "execution_count": 21,
     "metadata": {},
     "output_type": "execute_result"
    }
   ],
   "source": [
    "pic = [\"<iframe src='https://www.artstation.com/api/v2/animation/video_clips/c5351999-691e-4d4e-a913-644f6047bf63/embed.html?s=a48391717924c13258edefa8f2cb3adc50502e1cfac6e576b4524d1eb24e0506&t=1721665535' width='1920' height='1018' frameborder='0' allowfullscreen allows='autoplay; fullscreen' style='max-width: 1920px; max-height: 1018px;'></iframe>\",\n",
    " 'https://cdnb.artstation.com/p/assets/video_clips/images/078/249/845/large/vincentg-thumb.jpg?1721623474',\n",
    " 'https://cdna.artstation.com/p/assets/covers/images/078/253/180/large/vincentg-vincentg-vfx-slash-cover.jpg?1721634310',\n",
    " \"<iframe src='https://www.artstation.com/api/v2/animation/video_clips/7a254b8e-0b9e-41b7-acf3-8066481d3cf8/embed.html?s=d57cbd2e1cb89e6c1e0f7ff1464e05197ce1cc40b89bd8d337806fa3001b63f7&t=1721665535' width='1920' height='1048' frameborder='0' allowfullscreen allows='autoplay; fullscreen' style='max-width: 1920px; max-height: 1048px;'></iframe>\",\n",
    " 'https://cdna.artstation.com/p/assets/video_clips/images/078/250/190/large/vincentg-thumb.jpg?1721624586',\n",
    " 'https://cdnb.artstation.com/p/assets/images/images/078/250/625/large/vincentg-screenshot-2024-07-22-132059.jpg?1721626070',\n",
    " \"<iframe src='https://www.artstation.com/api/v2/animation/video_clips/14b45d67-9ed7-49ee-a107-112352b4bb9d/embed.html?s=b251534afa845d3a7d4baeefc907930b24da66f52143fa03eeb06fc114fd6661&t=1721665535' width='1920' height='1032' frameborder='0' allowfullscreen allows='autoplay; fullscreen' style='max-width: 1920px; max-height: 1032px;'></iframe>\",\n",
    " 'https://cdnb.artstation.com/p/assets/video_clips/images/078/180/513/large/vincentg-thumb.jpg?1721396099',\n",
    " \"<iframe src='https://www.artstation.com/api/v2/animation/video_clips/09a3ad57-804a-4ce9-a635-fa86cbeed591/embed.html?s=0a9386578fd15024d31ff12c1934d1b9e4c586b4320f005030ecedfe6059af4f&t=1721665535' width='1920' height='1108' frameborder='0' allowfullscreen allows='autoplay; fullscreen' style='max-width: 1920px; max-height: 1108px;'></iframe>\",\n",
    " 'https://cdnb.artstation.com/p/assets/video_clips/images/078/100/473/large/vincentg-thumb.jpg?1721195409',\n",
    " \"<iframe src='https://www.artstation.com/api/v2/animation/video_clips/bec70744-c2ad-47a0-9708-56bf89b6269e/embed.html?s=8268451f587cec7d49090fa2b090701b6b0332265944b77902b4a85ca4c8908c&t=1721665535' width='1920' height='1108' frameborder='0' allowfullscreen allows='autoplay; fullscreen' style='max-width: 1920px; max-height: 1108px;'></iframe>\",\n",
    " 'https://cdnb.artstation.com/p/assets/video_clips/images/078/101/531/large/vincentg-thumb.jpg?1721198268',\n",
    " \"<iframe src='https://www.artstation.com/api/v2/animation/video_clips/56a2b320-ccfb-4003-acaa-511daaca02c0/embed.html?s=c803b3aefcf74862070bee9efc1398c69243c7a0a7de0f655773ab1d5441e50d&t=1721665535' width='1920' height='1126' frameborder='0' allowfullscreen allows='autoplay; fullscreen' style='max-width: 1920px; max-height: 1126px;'></iframe>\",\n",
    " 'https://cdnb.artstation.com/p/assets/video_clips/images/078/100/807/large/vincentg-thumb.jpg?1721196286',\n",
    " \"<iframe src='https://www.artstation.com/api/v2/animation/video_clips/e19f34f3-a60c-4e61-a069-fbf2af22f81d/embed.html?s=c315be6de75867be02cbe88d57ad1c20b51995cab160d48a4bceaaf5a192fb8f&t=1721665535' width='1920' height='1024' frameborder='0' allowfullscreen allows='autoplay; fullscreen' style='max-width: 1920px; max-height: 1024px;'></iframe>\",\n",
    " 'https://cdna.artstation.com/p/assets/video_clips/images/078/228/664/large/vincentg-thumb.jpg?1721561439',\n",
    " 'https://cdna.artstation.com/p/assets/images/images/078/100/240/large/vincentg-screenshot-2024-07-17-133812.jpg?1721194722',\n",
    " 'https://cdnb.artstation.com/p/assets/images/images/078/228/579/large/vincentg-screenshot-2024-07-21-192703.jpg?1721561251',\n",
    " 'https://cdna.artstation.com/p/assets/images/images/078/100/148/large/vincentg-screenshot-2024-07-17-133243.jpg?1721194394',\n",
    " 'https://cdna.artstation.com/p/assets/images/images/078/061/538/large/vincentg-screenshot-2024-07-16-100137.jpg?1721095568',\n",
    " 'https://cdna.artstation.com/p/assets/images/images/078/061/550/large/vincentg-screenshot-2024-07-16-100634.jpg?1721095641'][3]\n",
    "pic "
   ]
  },
  {
   "cell_type": "code",
   "execution_count": 22,
   "metadata": {},
   "outputs": [
    {
     "data": {
      "text/plain": [
       "['https://www.artstation.com/api/v2/animation/video_clips/7a254b8e-0b9e-41b7-acf3-8066481d3cf8/embed.html?s=d57cbd2e1cb89e6c1e0f7ff1464e05197ce1cc40b89bd8d337806fa3001b63f7&t=1721665535']"
      ]
     },
     "execution_count": 22,
     "metadata": {},
     "output_type": "execute_result"
    }
   ],
   "source": [
    "\n"
   ]
  }
 ],
 "metadata": {
  "kernelspec": {
   "display_name": "Python 3",
   "language": "python",
   "name": "python3"
  },
  "language_info": {
   "codemirror_mode": {
    "name": "ipython",
    "version": 3
   },
   "file_extension": ".py",
   "mimetype": "text/x-python",
   "name": "python",
   "nbconvert_exporter": "python",
   "pygments_lexer": "ipython3",
   "version": "3.12.4"
  }
 },
 "nbformat": 4,
 "nbformat_minor": 2
}
